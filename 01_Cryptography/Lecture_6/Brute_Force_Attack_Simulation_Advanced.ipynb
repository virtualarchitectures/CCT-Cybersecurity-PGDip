{
  "cells": [
    {
      "cell_type": "markdown",
      "id": "64391d4f",
      "metadata": {
        "id": "64391d4f"
      },
      "source": [
        "# 🔐 Brute-Force Attack Simulation in Python"
      ]
    },
    {
      "cell_type": "markdown",
      "id": "3086b3f7",
      "metadata": {
        "id": "3086b3f7"
      },
      "source": [
        "\n",
        "This notebook demonstrates how brute-force attacks work in cryptography using simple ciphers like Caesar Cipher and numeric PINs.\n",
        "We also analyze the feasibility of brute-force attacks on modern cryptographic standards like AES.\n"
      ]
    },
    {
      "cell_type": "code",
      "execution_count": null,
      "id": "1ac471d7",
      "metadata": {
        "id": "1ac471d7"
      },
      "outputs": [],
      "source": [
        "\n",
        "def caesar_encrypt(plaintext, key):\n",
        "    ciphertext = ''\n",
        "    for char in plaintext:\n",
        "        if char.isalpha():\n",
        "            base = ord('A') if char.isupper() else ord('a')\n",
        "            ciphertext += chr((ord(char) - base + key) % 26 + base)\n",
        "        else:\n",
        "            ciphertext += char\n",
        "    return ciphertext\n",
        "\n",
        "# Example\n",
        "plaintext = \"Hello World\"\n",
        "key = 3\n",
        "ciphertext = caesar_encrypt(plaintext, key)\n",
        "print(\"Encrypted Text:\", ciphertext)\n"
      ]
    },
    {
      "cell_type": "code",
      "execution_count": null,
      "id": "68cda669",
      "metadata": {
        "id": "68cda669"
      },
      "outputs": [],
      "source": [
        "\n",
        "def brute_force_caesar(ciphertext):\n",
        "    for key in range(26):\n",
        "        decrypted = ''\n",
        "        for char in ciphertext:\n",
        "            if char.isalpha():\n",
        "                base = ord('A') if char.isupper() else ord('a')\n",
        "                decrypted += chr((ord(char) - base - key) % 26 + base)\n",
        "            else:\n",
        "                decrypted += char\n",
        "        print(f\"Key {key:2d}: {decrypted}\")\n",
        "\n",
        "# Try brute-force\n",
        "brute_force_caesar(ciphertext)\n"
      ]
    },
    {
      "cell_type": "code",
      "execution_count": null,
      "id": "9e34dd64",
      "metadata": {
        "id": "9e34dd64"
      },
      "outputs": [],
      "source": [
        "\n",
        "def brute_force_pin(real_pin):\n",
        "    attempts = 0\n",
        "    for guess in range(10000):\n",
        "        attempt = f\"{guess:04d}\"\n",
        "        attempts += 1\n",
        "        if attempt == real_pin:\n",
        "            print(f\"PIN cracked: {attempt} in {attempts} attempts\")\n",
        "            return\n",
        "\n",
        "# Simulate pin cracking\n",
        "brute_force_pin(\"3847\")\n"
      ]
    },
    {
      "cell_type": "markdown",
      "id": "c64462d6",
      "metadata": {
        "id": "c64462d6"
      },
      "source": [
        "\n",
        "## 🔐 AES Keyspace Size\n",
        "\n",
        "AES-128 uses a 128-bit key. This means:\n",
        "\n",
        "- **Possible keys** = 2^128 = ~3.4 × 10^38\n",
        "- Brute-forcing AES with current technology is computationally infeasible.\n",
        "\n",
        "If a computer could check **1 billion keys per second**, it would still take:\n",
        "\n",
        "- **~10^22 years** to try all keys (far longer than the age of the universe).\n"
      ]
    },
    {
      "cell_type": "code",
      "execution_count": null,
      "id": "6a5a0cb0",
      "metadata": {
        "id": "6a5a0cb0"
      },
      "outputs": [],
      "source": [
        "\n",
        "import time\n",
        "\n",
        "def simulate_brute_force_speed(key_space_size=100000, correct_key=78923):\n",
        "    start_time = time.time()\n",
        "    for guess in range(key_space_size):\n",
        "        if guess == correct_key:\n",
        "            break\n",
        "    end_time = time.time()\n",
        "    print(f\"Time to crack key {correct_key}: {end_time - start_time:.6f} seconds\")\n",
        "\n",
        "simulate_brute_force_speed()\n"
      ]
    },
    {
      "cell_type": "markdown",
      "id": "379c43d9",
      "metadata": {
        "id": "379c43d9"
      },
      "source": [
        "\n",
        "## 🧠 Summary\n",
        "\n",
        "- Brute-force attacks are **simple but extremely inefficient** as key size increases.\n",
        "- Small keyspaces (e.g., Caesar, PINs) can be cracked quickly.\n",
        "- Large keyspaces (e.g., AES-128, AES-256) are secure against brute-force with current and foreseeable classical computing capabilities.\n",
        "\n",
        "---\n",
        "\n",
        "💡 Next Steps: Study **quantum computing threats** like **Grover's Algorithm**, which can reduce brute-force complexity to `√N`, making AES-128 have an effective security level of AES-64.\n"
      ]
    },
    {
      "cell_type": "markdown",
      "id": "990d1469",
      "metadata": {
        "id": "990d1469"
      },
      "source": [
        "\n",
        "## 🧮 Brute-Force Attack Complexity\n",
        "\n",
        "The time complexity of a brute-force attack is **O(N)** where `N` is the size of the keyspace. For a key of `k` bits:\n",
        "\n",
        "- `N = 2^k`\n",
        "- Time grows **exponentially** with key size.\n",
        "- Security grows **linearly with the number of bits** added to the key.\n",
        "\n",
        "For example:\n",
        "\n",
        "- 32-bit key → 2^32 ≈ 4.3 billion keys\n",
        "- 128-bit key → 2^128 ≈ 3.4 × 10^38 keys\n",
        "- 256-bit key → 2^256 ≈ 1.15 × 10^77 keys\n"
      ]
    },
    {
      "cell_type": "code",
      "execution_count": null,
      "id": "6c5a3c81",
      "metadata": {
        "id": "6c5a3c81"
      },
      "outputs": [],
      "source": [
        "from math import log2\n",
        "\n",
        "def entropy_analysis(bits):\n",
        "    entropy = bits  # entropy in bits for uniformly distributed keys\n",
        "    key_space = 2 ** bits\n",
        "    print(f\"Entropy: {entropy} bits\")\n",
        "    print(f\"Key space size: 2^{bits} = {key_space:.3e}\")\n",
        "    print(f\"Log2(key space): {log2(key_space):.1f} bits\")\n",
        "\n",
        "# AES-128 vs AES-256\n",
        "entropy_analysis(128)\n",
        "entropy_analysis(256)\n"
      ]
    },
    {
      "cell_type": "markdown",
      "id": "3cac6d7f",
      "metadata": {
        "id": "3cac6d7f"
      },
      "source": [
        "\n",
        "## 🧪 Quantum Threat: Grover's Algorithm\n",
        "\n",
        "Grover’s Algorithm allows a quantum computer to search an unstructured keyspace in **√N** time.\n",
        "\n",
        "For brute-force attacks:\n",
        "\n",
        "- Classical: `O(N)`\n",
        "- Quantum: `O(√N)`\n",
        "\n",
        "This means:\n",
        "\n",
        "- AES-128 → effective security of 64 bits\n",
        "- AES-256 → effective security of 128 bits\n",
        "\n",
        "So, **AES-256 is preferred** in a post-quantum world.\n",
        "\n",
        "However, **Grover's Algorithm still requires a fully functioning quantum computer with thousands of qubits**, which remains an engineering challenge.\n"
      ]
    }
  ],
  "metadata": {
    "colab": {
      "provenance": []
    },
    "kernelspec": {
      "display_name": "cct-cybersecurity-pgdip (3.12.7)",
      "language": "python",
      "name": "python3"
    },
    "language_info": {
      "codemirror_mode": {
        "name": "ipython",
        "version": 3
      },
      "file_extension": ".py",
      "mimetype": "text/x-python",
      "name": "python",
      "nbconvert_exporter": "python",
      "pygments_lexer": "ipython3",
      "version": "3.12.7"
    }
  },
  "nbformat": 4,
  "nbformat_minor": 5
}
